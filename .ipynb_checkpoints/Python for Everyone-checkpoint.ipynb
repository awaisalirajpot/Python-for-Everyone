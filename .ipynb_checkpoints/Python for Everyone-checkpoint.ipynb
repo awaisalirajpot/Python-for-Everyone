{
 "cells": [
  {
   "cell_type": "markdown",
   "id": "05829bac-2177-499e-b25e-60bbe747e0ed",
   "metadata": {},
   "source": [
    "# Python for Everyone\n",
    "##### Course Learnings\n",
    "1. Basics of Computers and its parts\n",
    "2. Python as a Language"
   ]
  },
  {
   "cell_type": "markdown",
   "id": "07efa376-bed1-4332-b8d0-b30906e69970",
   "metadata": {},
   "source": [
    "#### Course 01/06: Getting started with Python"
   ]
  },
  {
   "cell_type": "markdown",
   "id": "873da287-60a2-4042-92a1-6939ecc4f504",
   "metadata": {
    "jp-MarkdownHeadingCollapsed": true
   },
   "source": [
    "##### Assigning Values and Basic Operators"
   ]
  },
  {
   "cell_type": "code",
   "execution_count": 1,
   "id": "20e6a7f9-7745-4a49-8550-623756e9f257",
   "metadata": {},
   "outputs": [
    {
     "data": {
      "text/plain": [
       "16"
      ]
     },
     "execution_count": 1,
     "metadata": {},
     "output_type": "execute_result"
    }
   ],
   "source": [
    "a = 4\n",
    "b = 4\n",
    "a*b"
   ]
  },
  {
   "cell_type": "markdown",
   "id": "5c3609d3-ced9-4856-a2c9-f1b88bdda5a8",
   "metadata": {
    "jp-MarkdownHeadingCollapsed": true
   },
   "source": [
    "##### If and while"
   ]
  },
  {
   "cell_type": "code",
   "execution_count": 2,
   "id": "6959b7a3-ad5f-4da2-8a39-d7817dc7b8fa",
   "metadata": {},
   "outputs": [
    {
     "name": "stdout",
     "output_type": "stream",
     "text": [
      "smaller\n"
     ]
    }
   ],
   "source": [
    "x = 10\n",
    "if x<20:\n",
    "    print('smaller')\n",
    "if x>20:\n",
    "    print('larger')"
   ]
  },
  {
   "cell_type": "code",
   "execution_count": 3,
   "id": "6f3781dd-5193-4b79-a616-46cf8a911033",
   "metadata": {},
   "outputs": [
    {
     "name": "stdout",
     "output_type": "stream",
     "text": [
      "5\n",
      "4\n",
      "3\n",
      "2\n",
      "1\n",
      "blast\n"
     ]
    }
   ],
   "source": [
    "n = 5\n",
    "while n>0:\n",
    "    print(n)\n",
    "    n = n-1\n",
    "print('blast')"
   ]
  },
  {
   "cell_type": "markdown",
   "id": "e1100e6f-f080-4eb5-b69b-cd019a6d59ea",
   "metadata": {
    "jp-MarkdownHeadingCollapsed": true
   },
   "source": [
    "##### Giving varriables Numanic Names\n",
    "Python understan the same like fweffwexr4 = a = hours = rate all are same but you write what humans like\n",
    "<br>"
   ]
  },
  {
   "cell_type": "code",
   "execution_count": 4,
   "id": "048d5a35-2828-4613-af24-ea71c76cfc38",
   "metadata": {},
   "outputs": [
    {
     "data": {
      "text/plain": [
       "640"
      ]
     },
     "execution_count": 4,
     "metadata": {},
     "output_type": "execute_result"
    }
   ],
   "source": [
    "hours = 32\n",
    "rate = 20\n",
    "pay = hours*rate\n",
    "pay"
   ]
  },
  {
   "cell_type": "code",
   "execution_count": 7,
   "id": "22486bbc-4d44-4db8-a382-5a36204ccc6a",
   "metadata": {},
   "outputs": [
    {
     "data": {
      "text/plain": [
       "0.9359999999999999"
      ]
     },
     "execution_count": 7,
     "metadata": {},
     "output_type": "execute_result"
    }
   ],
   "source": [
    "x = 0.6\n",
    "x = 3.9*x*(1-x) #the the right side will be executed first and then it will be added \n",
    "x"
   ]
  },
  {
   "cell_type": "code",
   "execution_count": 8,
   "id": "66318358-98e1-49b7-8f66-0c17ba7167e6",
   "metadata": {},
   "outputs": [
    {
     "name": "stdout",
     "output_type": "stream",
     "text": [
      "3\n"
     ]
    }
   ],
   "source": [
    "# to calculate the remainder\n",
    "xx = 23\n",
    "yy = xx%5\n",
    "print(yy)"
   ]
  },
  {
   "cell_type": "code",
   "execution_count": 13,
   "id": "a775dad4-cedb-4bcc-80c0-e5c18f192306",
   "metadata": {},
   "outputs": [
    {
     "name": "stdout",
     "output_type": "stream",
     "text": [
      "9\n",
      "4\n"
     ]
    }
   ],
   "source": [
    "# to calculate the power\n",
    "x = 3**2\n",
    "print(x)\n",
    "y = 2\n",
    "z = y**2\n",
    "print(z)"
   ]
  },
  {
   "cell_type": "markdown",
   "id": "37c5c573-7550-4de5-84a5-1120e82a574c",
   "metadata": {},
   "source": [
    "##### Numerical Expressions"
   ]
  },
  {
   "cell_type": "markdown",
   "id": "f168afd5-1b98-4c4e-988e-b12b5c1df2b9",
   "metadata": {},
   "source": [
    "**Order of Expressions** <br>\n",
    "Left to Right --->\n",
    "| Name | Symbols |\n",
    "| ---- | ---- |\n",
    "| 1. Parantheses | () |\n",
    "| 2. Power | ** |\n",
    "| 3. Multiplication | * |\n",
    "| 4. Addition | + |\n",
    "| 5. Substration | - |"
   ]
  },
  {
   "cell_type": "code",
   "execution_count": 17,
   "id": "f0297ad0-821c-4a9b-97dc-7b77fe3708df",
   "metadata": {},
   "outputs": [
    {
     "data": {
      "text/plain": [
       "11.0"
      ]
     },
     "execution_count": 17,
     "metadata": {},
     "output_type": "execute_result"
    }
   ],
   "source": [
    "x = 1+2**3/4*5 #PPDMAS \n",
    "x"
   ]
  },
  {
   "cell_type": "code",
   "execution_count": 15,
   "id": "f5f1a1f5-a17b-42a6-94e9-2437fcee7086",
   "metadata": {},
   "outputs": [
    {
     "data": {
      "text/plain": [
       "11.0"
      ]
     },
     "execution_count": 15,
     "metadata": {},
     "output_type": "execute_result"
    }
   ],
   "source": [
    "x = 1 + (((2**3)/4)*5)\n",
    "x"
   ]
  },
  {
   "cell_type": "markdown",
   "id": "c98f79e3-a339-4ef4-b82f-739be866cbcc",
   "metadata": {},
   "source": [
    "##### Variables Types"
   ]
  },
  {
   "cell_type": "code",
   "execution_count": 19,
   "id": "94a11aec-eb57-41b7-b901-2cb3172c7b7f",
   "metadata": {},
   "outputs": [
    {
     "name": "stdout",
     "output_type": "stream",
     "text": [
      "Awais Ali\n"
     ]
    },
    {
     "ename": "TypeError",
     "evalue": "unsupported operand type(s) for -: 'str' and 'str'",
     "output_type": "error",
     "traceback": [
      "\u001b[1;31m---------------------------------------------------------------------------\u001b[0m",
      "\u001b[1;31mTypeError\u001b[0m                                 Traceback (most recent call last)",
      "Cell \u001b[1;32mIn[19], line 3\u001b[0m\n\u001b[0;32m      1\u001b[0m x \u001b[38;5;241m=\u001b[39m \u001b[38;5;124m'\u001b[39m\u001b[38;5;124mAwais \u001b[39m\u001b[38;5;124m'\u001b[39m \u001b[38;5;241m+\u001b[39m \u001b[38;5;124m'\u001b[39m\u001b[38;5;124mAli\u001b[39m\u001b[38;5;124m'\u001b[39m\n\u001b[0;32m      2\u001b[0m \u001b[38;5;28mprint\u001b[39m(x)\n\u001b[1;32m----> 3\u001b[0m y \u001b[38;5;241m=\u001b[39m \u001b[38;5;124m'\u001b[39m\u001b[38;5;124mAwais \u001b[39m\u001b[38;5;124m'\u001b[39m \u001b[38;5;241m-\u001b[39m \u001b[38;5;124m'\u001b[39m\u001b[38;5;124mAli\u001b[39m\u001b[38;5;124m'\u001b[39m\n\u001b[0;32m      4\u001b[0m \u001b[38;5;28mprint\u001b[39m(y)\n",
      "\u001b[1;31mTypeError\u001b[0m: unsupported operand type(s) for -: 'str' and 'str'"
     ]
    }
   ],
   "source": [
    "x = 'Awais ' + 'Ali'\n",
    "print(x)\n",
    "y = 'Awais ' - 'Ali'\n",
    "print(y)"
   ]
  },
  {
   "cell_type": "code",
   "execution_count": 20,
   "id": "ec8042a4-b9b5-42c0-8757-05efeebc21c0",
   "metadata": {},
   "outputs": [
    {
     "ename": "TypeError",
     "evalue": "can only concatenate str (not \"int\") to str",
     "output_type": "error",
     "traceback": [
      "\u001b[1;31m---------------------------------------------------------------------------\u001b[0m",
      "\u001b[1;31mTypeError\u001b[0m                                 Traceback (most recent call last)",
      "Cell \u001b[1;32mIn[20], line 1\u001b[0m\n\u001b[1;32m----> 1\u001b[0m x \u001b[38;5;241m=\u001b[39m \u001b[38;5;124m'\u001b[39m\u001b[38;5;124mAwais\u001b[39m\u001b[38;5;124m'\u001b[39m \u001b[38;5;241m+\u001b[39m \u001b[38;5;241m1\u001b[39m\n\u001b[0;32m      2\u001b[0m \u001b[38;5;28mprint\u001b[39m(x)\n",
      "\u001b[1;31mTypeError\u001b[0m: can only concatenate str (not \"int\") to str"
     ]
    }
   ],
   "source": [
    "x = 'Awais' + 1\n",
    "print(x)"
   ]
  },
  {
   "cell_type": "code",
   "execution_count": 26,
   "id": "e30dcae6-95df-4876-a0d3-a223928a018d",
   "metadata": {},
   "outputs": [
    {
     "name": "stdout",
     "output_type": "stream",
     "text": [
      "<class 'str'>\n",
      "<class 'str'>\n",
      "<class 'int'>\n",
      "<class 'float'>\n"
     ]
    }
   ],
   "source": [
    "print(type(x))\n",
    "print(type('hellow'))\n",
    "print(type(4))\n",
    "print(type(4.2))"
   ]
  },
  {
   "cell_type": "code",
   "execution_count": 28,
   "id": "1de4a524-6013-4c5c-8ce7-fefaf90aa64e",
   "metadata": {},
   "outputs": [
    {
     "name": "stdout",
     "output_type": "stream",
     "text": [
      "100.0\n",
      "100\n"
     ]
    }
   ],
   "source": [
    "print(float(99) + int(1))\n",
    "print(round(float(99) + int(1)))"
   ]
  },
  {
   "cell_type": "code",
   "execution_count": 31,
   "id": "b64d5fb9-f49a-4254-b963-3c6c5494b769",
   "metadata": {},
   "outputs": [
    {
     "name": "stdout",
     "output_type": "stream",
     "text": [
      "125\n"
     ]
    }
   ],
   "source": [
    "# doing typecasting\n",
    "string = '124'\n",
    "integer = int(string)\n",
    "plus = integer+1\n",
    "print(plus)\n"
   ]
  },
  {
   "cell_type": "code",
   "execution_count": 32,
   "id": "9101d4fc-c7ea-4a7f-8d97-9328d0e3b644",
   "metadata": {},
   "outputs": [
    {
     "name": "stdin",
     "output_type": "stream",
     "text": [
      "who are you? : Awais Ali\n"
     ]
    },
    {
     "name": "stdout",
     "output_type": "stream",
     "text": [
      "welcome Awais Ali\n"
     ]
    }
   ],
   "source": [
    "# Taking input and doing it welcome\n",
    "name = input('who are you? :')\n",
    "print('welcome', name)"
   ]
  },
  {
   "cell_type": "code",
   "execution_count": null,
   "id": "c0ea32ca-2929-46b2-90a4-62db066194d7",
   "metadata": {},
   "outputs": [],
   "source": []
  },
  {
   "cell_type": "code",
   "execution_count": null,
   "id": "6d6d0d7c-fd12-4103-b30b-e97a97ff30bc",
   "metadata": {},
   "outputs": [],
   "source": []
  }
 ],
 "metadata": {
  "kernelspec": {
   "display_name": "Python 3 (ipykernel)",
   "language": "python",
   "name": "python3"
  },
  "language_info": {
   "codemirror_mode": {
    "name": "ipython",
    "version": 3
   },
   "file_extension": ".py",
   "mimetype": "text/x-python",
   "name": "python",
   "nbconvert_exporter": "python",
   "pygments_lexer": "ipython3",
   "version": "3.13.5"
  }
 },
 "nbformat": 4,
 "nbformat_minor": 5
}

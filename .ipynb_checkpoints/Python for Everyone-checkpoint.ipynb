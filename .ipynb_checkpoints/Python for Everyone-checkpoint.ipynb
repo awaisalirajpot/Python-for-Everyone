{
 "cells": [
  {
   "cell_type": "markdown",
   "id": "05829bac-2177-499e-b25e-60bbe747e0ed",
   "metadata": {},
   "source": [
    "# Python for Everyone\n",
    "##### Course Learnings\n",
    "1. Basics of Computers and its parts\n",
    "2. Python as a Language"
   ]
  },
  {
   "cell_type": "markdown",
   "id": "07efa376-bed1-4332-b8d0-b30906e69970",
   "metadata": {},
   "source": [
    "#### Course 01/06: Getting started with Python"
   ]
  },
  {
   "cell_type": "markdown",
   "id": "873da287-60a2-4042-92a1-6939ecc4f504",
   "metadata": {
    "jp-MarkdownHeadingCollapsed": true
   },
   "source": [
    "##### Assigning Values and Basic Operators"
   ]
  },
  {
   "cell_type": "code",
   "execution_count": 1,
   "id": "20e6a7f9-7745-4a49-8550-623756e9f257",
   "metadata": {},
   "outputs": [
    {
     "data": {
      "text/plain": [
       "16"
      ]
     },
     "execution_count": 1,
     "metadata": {},
     "output_type": "execute_result"
    }
   ],
   "source": [
    "a = 4\n",
    "b = 4\n",
    "a*b"
   ]
  },
  {
   "cell_type": "markdown",
   "id": "5c3609d3-ced9-4856-a2c9-f1b88bdda5a8",
   "metadata": {
    "jp-MarkdownHeadingCollapsed": true
   },
   "source": [
    "##### If and while"
   ]
  },
  {
   "cell_type": "code",
   "execution_count": 2,
   "id": "6959b7a3-ad5f-4da2-8a39-d7817dc7b8fa",
   "metadata": {},
   "outputs": [
    {
     "name": "stdout",
     "output_type": "stream",
     "text": [
      "smaller\n"
     ]
    }
   ],
   "source": [
    "x = 10\n",
    "if x<20:\n",
    "    print('smaller')\n",
    "if x>20:\n",
    "    print('larger')"
   ]
  },
  {
   "cell_type": "code",
   "execution_count": 3,
   "id": "6f3781dd-5193-4b79-a616-46cf8a911033",
   "metadata": {},
   "outputs": [
    {
     "name": "stdout",
     "output_type": "stream",
     "text": [
      "5\n",
      "4\n",
      "3\n",
      "2\n",
      "1\n",
      "blast\n"
     ]
    }
   ],
   "source": [
    "n = 5\n",
    "while n>0:\n",
    "    print(n)\n",
    "    n = n-1\n",
    "print('blast')"
   ]
  },
  {
   "cell_type": "code",
   "execution_count": null,
   "id": "6a4210ba-0648-4b71-8816-484f1f602044",
   "metadata": {},
   "outputs": [],
   "source": []
  }
 ],
 "metadata": {
  "kernelspec": {
   "display_name": "Python 3 (ipykernel)",
   "language": "python",
   "name": "python3"
  },
  "language_info": {
   "codemirror_mode": {
    "name": "ipython",
    "version": 3
   },
   "file_extension": ".py",
   "mimetype": "text/x-python",
   "name": "python",
   "nbconvert_exporter": "python",
   "pygments_lexer": "ipython3",
   "version": "3.13.5"
  }
 },
 "nbformat": 4,
 "nbformat_minor": 5
}

{
 "cells": [
  {
   "cell_type": "markdown",
   "id": "05829bac-2177-499e-b25e-60bbe747e0ed",
   "metadata": {},
   "source": [
    "# Python for Everyone\n",
    "##### Course Learnings\n",
    "1. Basics of Computers and its parts\n",
    "2. Python as a Language"
   ]
  },
  {
   "cell_type": "markdown",
   "id": "07efa376-bed1-4332-b8d0-b30906e69970",
   "metadata": {},
   "source": [
    "#### Course 01/06: Getting started with Python"
   ]
  },
  {
   "cell_type": "markdown",
   "id": "873da287-60a2-4042-92a1-6939ecc4f504",
   "metadata": {
    "jp-MarkdownHeadingCollapsed": true
   },
   "source": [
    "##### Assigning Values and Basic Operators"
   ]
  },
  {
   "cell_type": "code",
   "execution_count": 1,
   "id": "20e6a7f9-7745-4a49-8550-623756e9f257",
   "metadata": {},
   "outputs": [
    {
     "data": {
      "text/plain": [
       "16"
      ]
     },
     "execution_count": 1,
     "metadata": {},
     "output_type": "execute_result"
    }
   ],
   "source": [
    "a = 4\n",
    "b = 4\n",
    "a*b"
   ]
  },
  {
   "cell_type": "markdown",
   "id": "5c3609d3-ced9-4856-a2c9-f1b88bdda5a8",
   "metadata": {
    "jp-MarkdownHeadingCollapsed": true
   },
   "source": [
    "##### If and while"
   ]
  },
  {
   "cell_type": "code",
   "execution_count": 2,
   "id": "6959b7a3-ad5f-4da2-8a39-d7817dc7b8fa",
   "metadata": {},
   "outputs": [
    {
     "name": "stdout",
     "output_type": "stream",
     "text": [
      "smaller\n"
     ]
    }
   ],
   "source": [
    "x = 10\n",
    "if x<20:\n",
    "    print('smaller')\n",
    "if x>20:\n",
    "    print('larger')"
   ]
  },
  {
   "cell_type": "code",
   "execution_count": 3,
   "id": "6f3781dd-5193-4b79-a616-46cf8a911033",
   "metadata": {},
   "outputs": [
    {
     "name": "stdout",
     "output_type": "stream",
     "text": [
      "5\n",
      "4\n",
      "3\n",
      "2\n",
      "1\n",
      "blast\n"
     ]
    }
   ],
   "source": [
    "n = 5\n",
    "while n>0:\n",
    "    print(n)\n",
    "    n = n-1\n",
    "print('blast')"
   ]
  },
  {
   "cell_type": "markdown",
   "id": "e1100e6f-f080-4eb5-b69b-cd019a6d59ea",
   "metadata": {
    "jp-MarkdownHeadingCollapsed": true
   },
   "source": [
    "##### Giving varriables Numanic Names\n",
    "Python understan the same like fweffwexr4 = a = hours = rate all are same but you write what humans like\n",
    "<br>"
   ]
  },
  {
   "cell_type": "code",
   "execution_count": 4,
   "id": "048d5a35-2828-4613-af24-ea71c76cfc38",
   "metadata": {},
   "outputs": [
    {
     "data": {
      "text/plain": [
       "640"
      ]
     },
     "execution_count": 4,
     "metadata": {},
     "output_type": "execute_result"
    }
   ],
   "source": [
    "hours = 32\n",
    "rate = 20\n",
    "pay = hours*rate\n",
    "pay"
   ]
  },
  {
   "cell_type": "code",
   "execution_count": 7,
   "id": "22486bbc-4d44-4db8-a382-5a36204ccc6a",
   "metadata": {},
   "outputs": [
    {
     "data": {
      "text/plain": [
       "0.9359999999999999"
      ]
     },
     "execution_count": 7,
     "metadata": {},
     "output_type": "execute_result"
    }
   ],
   "source": [
    "x = 0.6\n",
    "x = 3.9*x*(1-x) #the the right side will be executed first and then it will be added \n",
    "x"
   ]
  },
  {
   "cell_type": "code",
   "execution_count": 8,
   "id": "66318358-98e1-49b7-8f66-0c17ba7167e6",
   "metadata": {},
   "outputs": [
    {
     "name": "stdout",
     "output_type": "stream",
     "text": [
      "3\n"
     ]
    }
   ],
   "source": [
    "# to calculate the remainder\n",
    "xx = 23\n",
    "yy = xx%5\n",
    "print(yy)"
   ]
  },
  {
   "cell_type": "code",
   "execution_count": 13,
   "id": "a775dad4-cedb-4bcc-80c0-e5c18f192306",
   "metadata": {},
   "outputs": [
    {
     "name": "stdout",
     "output_type": "stream",
     "text": [
      "9\n",
      "4\n"
     ]
    }
   ],
   "source": [
    "# to calculate the power\n",
    "x = 3**2\n",
    "print(x)\n",
    "y = 2\n",
    "z = y**2\n",
    "print(z)"
   ]
  },
  {
   "cell_type": "markdown",
   "id": "37c5c573-7550-4de5-84a5-1120e82a574c",
   "metadata": {
    "jp-MarkdownHeadingCollapsed": true
   },
   "source": [
    "##### Numerical Expressions"
   ]
  },
  {
   "cell_type": "markdown",
   "id": "f168afd5-1b98-4c4e-988e-b12b5c1df2b9",
   "metadata": {},
   "source": [
    "**Order of Expressions** <br>\n",
    "Left to Right --->\n",
    "| Name | Symbols |\n",
    "| ---- | ---- |\n",
    "| 1. Parantheses | () |\n",
    "| 2. Power | ** |\n",
    "| 3. Multiplication | * |\n",
    "| 4. Addition | + |\n",
    "| 5. Substration | - |"
   ]
  },
  {
   "cell_type": "code",
   "execution_count": 17,
   "id": "f0297ad0-821c-4a9b-97dc-7b77fe3708df",
   "metadata": {},
   "outputs": [
    {
     "data": {
      "text/plain": [
       "11.0"
      ]
     },
     "execution_count": 17,
     "metadata": {},
     "output_type": "execute_result"
    }
   ],
   "source": [
    "x = 1+2**3/4*5 #PPDMAS \n",
    "x"
   ]
  },
  {
   "cell_type": "code",
   "execution_count": 15,
   "id": "f5f1a1f5-a17b-42a6-94e9-2437fcee7086",
   "metadata": {},
   "outputs": [
    {
     "data": {
      "text/plain": [
       "11.0"
      ]
     },
     "execution_count": 15,
     "metadata": {},
     "output_type": "execute_result"
    }
   ],
   "source": [
    "x = 1 + (((2**3)/4)*5)\n",
    "x"
   ]
  },
  {
   "cell_type": "markdown",
   "id": "c98f79e3-a339-4ef4-b82f-739be866cbcc",
   "metadata": {
    "jp-MarkdownHeadingCollapsed": true
   },
   "source": [
    "##### Variables Types"
   ]
  },
  {
   "cell_type": "code",
   "execution_count": 19,
   "id": "94a11aec-eb57-41b7-b901-2cb3172c7b7f",
   "metadata": {},
   "outputs": [
    {
     "name": "stdout",
     "output_type": "stream",
     "text": [
      "Awais Ali\n"
     ]
    },
    {
     "ename": "TypeError",
     "evalue": "unsupported operand type(s) for -: 'str' and 'str'",
     "output_type": "error",
     "traceback": [
      "\u001b[1;31m---------------------------------------------------------------------------\u001b[0m",
      "\u001b[1;31mTypeError\u001b[0m                                 Traceback (most recent call last)",
      "Cell \u001b[1;32mIn[19], line 3\u001b[0m\n\u001b[0;32m      1\u001b[0m x \u001b[38;5;241m=\u001b[39m \u001b[38;5;124m'\u001b[39m\u001b[38;5;124mAwais \u001b[39m\u001b[38;5;124m'\u001b[39m \u001b[38;5;241m+\u001b[39m \u001b[38;5;124m'\u001b[39m\u001b[38;5;124mAli\u001b[39m\u001b[38;5;124m'\u001b[39m\n\u001b[0;32m      2\u001b[0m \u001b[38;5;28mprint\u001b[39m(x)\n\u001b[1;32m----> 3\u001b[0m y \u001b[38;5;241m=\u001b[39m \u001b[38;5;124m'\u001b[39m\u001b[38;5;124mAwais \u001b[39m\u001b[38;5;124m'\u001b[39m \u001b[38;5;241m-\u001b[39m \u001b[38;5;124m'\u001b[39m\u001b[38;5;124mAli\u001b[39m\u001b[38;5;124m'\u001b[39m\n\u001b[0;32m      4\u001b[0m \u001b[38;5;28mprint\u001b[39m(y)\n",
      "\u001b[1;31mTypeError\u001b[0m: unsupported operand type(s) for -: 'str' and 'str'"
     ]
    }
   ],
   "source": [
    "x = 'Awais ' + 'Ali'\n",
    "print(x)\n",
    "y = 'Awais ' - 'Ali'\n",
    "print(y)"
   ]
  },
  {
   "cell_type": "code",
   "execution_count": 20,
   "id": "ec8042a4-b9b5-42c0-8757-05efeebc21c0",
   "metadata": {},
   "outputs": [
    {
     "ename": "TypeError",
     "evalue": "can only concatenate str (not \"int\") to str",
     "output_type": "error",
     "traceback": [
      "\u001b[1;31m---------------------------------------------------------------------------\u001b[0m",
      "\u001b[1;31mTypeError\u001b[0m                                 Traceback (most recent call last)",
      "Cell \u001b[1;32mIn[20], line 1\u001b[0m\n\u001b[1;32m----> 1\u001b[0m x \u001b[38;5;241m=\u001b[39m \u001b[38;5;124m'\u001b[39m\u001b[38;5;124mAwais\u001b[39m\u001b[38;5;124m'\u001b[39m \u001b[38;5;241m+\u001b[39m \u001b[38;5;241m1\u001b[39m\n\u001b[0;32m      2\u001b[0m \u001b[38;5;28mprint\u001b[39m(x)\n",
      "\u001b[1;31mTypeError\u001b[0m: can only concatenate str (not \"int\") to str"
     ]
    }
   ],
   "source": [
    "x = 'Awais' + 1\n",
    "print(x)"
   ]
  },
  {
   "cell_type": "code",
   "execution_count": 26,
   "id": "e30dcae6-95df-4876-a0d3-a223928a018d",
   "metadata": {},
   "outputs": [
    {
     "name": "stdout",
     "output_type": "stream",
     "text": [
      "<class 'str'>\n",
      "<class 'str'>\n",
      "<class 'int'>\n",
      "<class 'float'>\n"
     ]
    }
   ],
   "source": [
    "print(type(x))\n",
    "print(type('hellow'))\n",
    "print(type(4))\n",
    "print(type(4.2))"
   ]
  },
  {
   "cell_type": "code",
   "execution_count": 28,
   "id": "1de4a524-6013-4c5c-8ce7-fefaf90aa64e",
   "metadata": {},
   "outputs": [
    {
     "name": "stdout",
     "output_type": "stream",
     "text": [
      "100.0\n",
      "100\n"
     ]
    }
   ],
   "source": [
    "print(float(99) + int(1))\n",
    "print(round(float(99) + int(1)))"
   ]
  },
  {
   "cell_type": "code",
   "execution_count": 31,
   "id": "b64d5fb9-f49a-4254-b963-3c6c5494b769",
   "metadata": {},
   "outputs": [
    {
     "name": "stdout",
     "output_type": "stream",
     "text": [
      "125\n"
     ]
    }
   ],
   "source": [
    "# doing typecasting\n",
    "string = '124'\n",
    "integer = int(string)\n",
    "plus = integer+1\n",
    "print(plus)\n"
   ]
  },
  {
   "cell_type": "code",
   "execution_count": 32,
   "id": "9101d4fc-c7ea-4a7f-8d97-9328d0e3b644",
   "metadata": {},
   "outputs": [
    {
     "name": "stdin",
     "output_type": "stream",
     "text": [
      "who are you? : Awais Ali\n"
     ]
    },
    {
     "name": "stdout",
     "output_type": "stream",
     "text": [
      "welcome Awais Ali\n"
     ]
    }
   ],
   "source": [
    "# Taking input and doing it welcome\n",
    "name = input('who are you? :')\n",
    "print('welcome', name)"
   ]
  },
  {
   "cell_type": "code",
   "execution_count": 35,
   "id": "c0ea32ca-2929-46b2-90a4-62db066194d7",
   "metadata": {},
   "outputs": [
    {
     "name": "stdin",
     "output_type": "stream",
     "text": [
      "Enter you name:  Awais ALi\n"
     ]
    },
    {
     "ename": "FileNotFoundError",
     "evalue": "[Errno 2] No such file or directory: 'Awais ALi'",
     "output_type": "error",
     "traceback": [
      "\u001b[1;31m---------------------------------------------------------------------------\u001b[0m",
      "\u001b[1;31mFileNotFoundError\u001b[0m                         Traceback (most recent call last)",
      "Cell \u001b[1;32mIn[35], line 3\u001b[0m\n\u001b[0;32m      1\u001b[0m \u001b[38;5;66;03m# Writing program to count words into a strings \u001b[39;00m\n\u001b[0;32m      2\u001b[0m name \u001b[38;5;241m=\u001b[39m \u001b[38;5;28minput\u001b[39m(\u001b[38;5;124m'\u001b[39m\u001b[38;5;124mEnter you name: \u001b[39m\u001b[38;5;124m'\u001b[39m)\n\u001b[1;32m----> 3\u001b[0m handle \u001b[38;5;241m=\u001b[39m \u001b[38;5;28mopen\u001b[39m(name)\n\u001b[0;32m      4\u001b[0m \u001b[38;5;28mprint\u001b[39m(handle)\n",
      "File \u001b[1;32mE:\\Anaconda Installed\\Lib\\site-packages\\IPython\\core\\interactiveshell.py:324\u001b[0m, in \u001b[0;36m_modified_open\u001b[1;34m(file, *args, **kwargs)\u001b[0m\n\u001b[0;32m    317\u001b[0m \u001b[38;5;28;01mif\u001b[39;00m file \u001b[38;5;129;01min\u001b[39;00m {\u001b[38;5;241m0\u001b[39m, \u001b[38;5;241m1\u001b[39m, \u001b[38;5;241m2\u001b[39m}:\n\u001b[0;32m    318\u001b[0m     \u001b[38;5;28;01mraise\u001b[39;00m \u001b[38;5;167;01mValueError\u001b[39;00m(\n\u001b[0;32m    319\u001b[0m         \u001b[38;5;124mf\u001b[39m\u001b[38;5;124m\"\u001b[39m\u001b[38;5;124mIPython won\u001b[39m\u001b[38;5;124m'\u001b[39m\u001b[38;5;124mt let you open fd=\u001b[39m\u001b[38;5;132;01m{\u001b[39;00mfile\u001b[38;5;132;01m}\u001b[39;00m\u001b[38;5;124m by default \u001b[39m\u001b[38;5;124m\"\u001b[39m\n\u001b[0;32m    320\u001b[0m         \u001b[38;5;124m\"\u001b[39m\u001b[38;5;124mas it is likely to crash IPython. If you know what you are doing, \u001b[39m\u001b[38;5;124m\"\u001b[39m\n\u001b[0;32m    321\u001b[0m         \u001b[38;5;124m\"\u001b[39m\u001b[38;5;124myou can use builtins\u001b[39m\u001b[38;5;124m'\u001b[39m\u001b[38;5;124m open.\u001b[39m\u001b[38;5;124m\"\u001b[39m\n\u001b[0;32m    322\u001b[0m     )\n\u001b[1;32m--> 324\u001b[0m \u001b[38;5;28;01mreturn\u001b[39;00m io_open(file, \u001b[38;5;241m*\u001b[39margs, \u001b[38;5;241m*\u001b[39m\u001b[38;5;241m*\u001b[39mkwargs)\n",
      "\u001b[1;31mFileNotFoundError\u001b[0m: [Errno 2] No such file or directory: 'Awais ALi'"
     ]
    }
   ],
   "source": [
    "# Writing program to count words into a strings \n",
    "name = input('Enter you name: ')\n",
    "handle = open(name)\n",
    "print(handle)"
   ]
  },
  {
   "cell_type": "code",
   "execution_count": 38,
   "id": "6d6d0d7c-fd12-4103-b30b-e97a97ff30bc",
   "metadata": {},
   "outputs": [
    {
     "name": "stdin",
     "output_type": "stream",
     "text": [
      "enter your name:  Awais ALi\n"
     ]
    },
    {
     "ename": "FileNotFoundError",
     "evalue": "[Errno 2] No such file or directory: 'Awais ALi'",
     "output_type": "error",
     "traceback": [
      "\u001b[1;31m---------------------------------------------------------------------------\u001b[0m",
      "\u001b[1;31mFileNotFoundError\u001b[0m                         Traceback (most recent call last)",
      "Cell \u001b[1;32mIn[38], line 2\u001b[0m\n\u001b[0;32m      1\u001b[0m name \u001b[38;5;241m=\u001b[39m \u001b[38;5;28minput\u001b[39m(\u001b[38;5;124m'\u001b[39m\u001b[38;5;124menter your name: \u001b[39m\u001b[38;5;124m'\u001b[39m)\n\u001b[1;32m----> 2\u001b[0m handle \u001b[38;5;241m=\u001b[39m \u001b[38;5;28mopen\u001b[39m(name, \u001b[38;5;124m'\u001b[39m\u001b[38;5;124mr\u001b[39m\u001b[38;5;124m'\u001b[39m)\n\u001b[0;32m      3\u001b[0m counts \u001b[38;5;241m=\u001b[39m \u001b[38;5;28mdict\u001b[39m()\n\u001b[0;32m      4\u001b[0m \u001b[38;5;28;01mfor\u001b[39;00m line \u001b[38;5;129;01min\u001b[39;00m handle:\n",
      "File \u001b[1;32mE:\\Anaconda Installed\\Lib\\site-packages\\IPython\\core\\interactiveshell.py:324\u001b[0m, in \u001b[0;36m_modified_open\u001b[1;34m(file, *args, **kwargs)\u001b[0m\n\u001b[0;32m    317\u001b[0m \u001b[38;5;28;01mif\u001b[39;00m file \u001b[38;5;129;01min\u001b[39;00m {\u001b[38;5;241m0\u001b[39m, \u001b[38;5;241m1\u001b[39m, \u001b[38;5;241m2\u001b[39m}:\n\u001b[0;32m    318\u001b[0m     \u001b[38;5;28;01mraise\u001b[39;00m \u001b[38;5;167;01mValueError\u001b[39;00m(\n\u001b[0;32m    319\u001b[0m         \u001b[38;5;124mf\u001b[39m\u001b[38;5;124m\"\u001b[39m\u001b[38;5;124mIPython won\u001b[39m\u001b[38;5;124m'\u001b[39m\u001b[38;5;124mt let you open fd=\u001b[39m\u001b[38;5;132;01m{\u001b[39;00mfile\u001b[38;5;132;01m}\u001b[39;00m\u001b[38;5;124m by default \u001b[39m\u001b[38;5;124m\"\u001b[39m\n\u001b[0;32m    320\u001b[0m         \u001b[38;5;124m\"\u001b[39m\u001b[38;5;124mas it is likely to crash IPython. If you know what you are doing, \u001b[39m\u001b[38;5;124m\"\u001b[39m\n\u001b[0;32m    321\u001b[0m         \u001b[38;5;124m\"\u001b[39m\u001b[38;5;124myou can use builtins\u001b[39m\u001b[38;5;124m'\u001b[39m\u001b[38;5;124m open.\u001b[39m\u001b[38;5;124m\"\u001b[39m\n\u001b[0;32m    322\u001b[0m     )\n\u001b[1;32m--> 324\u001b[0m \u001b[38;5;28;01mreturn\u001b[39;00m io_open(file, \u001b[38;5;241m*\u001b[39margs, \u001b[38;5;241m*\u001b[39m\u001b[38;5;241m*\u001b[39mkwargs)\n",
      "\u001b[1;31mFileNotFoundError\u001b[0m: [Errno 2] No such file or directory: 'Awais ALi'"
     ]
    }
   ],
   "source": [
    "name = input('enter your name: ')\n",
    "handle = open(name, 'r')\n",
    "counts = dict()\n",
    "for line in handle:\n",
    "    words = line.split()\n",
    "    for word in words:\n",
    "        count[word] = counts.get(word, 0) + 1\n",
    "bigcount = none\n",
    "bigword = none\n",
    "for word, count in counts.item():\n",
    "    if bigcount is none or count>bigcount:\n",
    "        bigword = word\n",
    "        bigcount = count\n",
    "print(bigcount,bigword)"
   ]
  },
  {
   "cell_type": "code",
   "execution_count": 1,
   "id": "19f79181-6a22-4a0a-a320-c573cccc9112",
   "metadata": {},
   "outputs": [
    {
     "name": "stdin",
     "output_type": "stream",
     "text": [
      "Enter the filename:  Awais ali is good man and doing hard work to get there in the place where he wantted to stay\n"
     ]
    },
    {
     "name": "stdout",
     "output_type": "stream",
     "text": [
      "Error: File not found. Please check the filename and try again.\n"
     ]
    },
    {
     "ename": "NameError",
     "evalue": "name 'handle' is not defined",
     "output_type": "error",
     "traceback": [
      "\u001b[1;31m---------------------------------------------------------------------------\u001b[0m",
      "\u001b[1;31mNameError\u001b[0m                                 Traceback (most recent call last)",
      "Cell \u001b[1;32mIn[1], line 12\u001b[0m\n\u001b[0;32m      8\u001b[0m     quit()\n\u001b[0;32m     10\u001b[0m counts \u001b[38;5;241m=\u001b[39m \u001b[38;5;28mdict\u001b[39m()\n\u001b[1;32m---> 12\u001b[0m \u001b[38;5;28;01mfor\u001b[39;00m line \u001b[38;5;129;01min\u001b[39;00m handle:\n\u001b[0;32m     13\u001b[0m     words \u001b[38;5;241m=\u001b[39m line\u001b[38;5;241m.\u001b[39msplit()\n\u001b[0;32m     14\u001b[0m     \u001b[38;5;28;01mfor\u001b[39;00m word \u001b[38;5;129;01min\u001b[39;00m words:\n",
      "\u001b[1;31mNameError\u001b[0m: name 'handle' is not defined"
     ]
    }
   ],
   "source": [
    "# Ask for the filename, not your name\n",
    "filename = input('Enter the filename: ')\n",
    "\n",
    "try:\n",
    "    handle = open(filename, 'r')\n",
    "except FileNotFoundError:\n",
    "    print('Error: File not found. Please check the filename and try again.')\n",
    "    quit()\n",
    "\n",
    "counts = dict()\n",
    "\n",
    "for line in handle:\n",
    "    words = line.split()\n",
    "    for word in words:\n",
    "        counts[word] = counts.get(word, 0) + 1  # fixed: \"count\" -> \"counts\"\n",
    "\n",
    "bigcount = None\n",
    "bigword = None\n",
    "\n",
    "for word, count in counts.items():  # fixed: \"item()\" -> \"items()\"\n",
    "    if bigcount is None or count > bigcount:\n",
    "        bigword = word\n",
    "        bigcount = count\n",
    "\n",
    "print('Most frequent word:', bigword, '=>', bigcount)\n"
   ]
  },
  {
   "cell_type": "code",
   "execution_count": 3,
   "id": "f6fa334b-cce0-4d8d-9e78-eb2e0d73a983",
   "metadata": {},
   "outputs": [
    {
     "name": "stdin",
     "output_type": "stream",
     "text": [
      "enter floor 3\n"
     ]
    },
    {
     "name": "stdout",
     "output_type": "stream",
     "text": [
      "4 usf\n"
     ]
    }
   ],
   "source": [
    "inp = int(input('enter floor'))\n",
    "usf = inp + 1\n",
    "print(usf, 'usf')"
   ]
  },
  {
   "cell_type": "code",
   "execution_count": 1,
   "id": "396b2f56-0b22-4e51-96e1-a3a856a72b0c",
   "metadata": {},
   "outputs": [
    {
     "name": "stdout",
     "output_type": "stream",
     "text": [
      "98.4\n"
     ]
    }
   ],
   "source": [
    "print(98.4)"
   ]
  },
  {
   "cell_type": "code",
   "execution_count": 2,
   "id": "c3e381eb-8508-4072-a6b4-891b10799b4b",
   "metadata": {},
   "outputs": [
    {
     "data": {
      "text/plain": [
       "5.0"
      ]
     },
     "execution_count": 2,
     "metadata": {},
     "output_type": "execute_result"
    }
   ],
   "source": [
    "x = 1 + 2 * 3 - 8 / 4\n",
    "x"
   ]
  },
  {
   "cell_type": "code",
   "execution_count": 6,
   "id": "24f729f6-8275-4ea4-8a14-83b8c1d8efee",
   "metadata": {},
   "outputs": [
    {
     "data": {
      "text/plain": [
       "98"
      ]
     },
     "execution_count": 6,
     "metadata": {},
     "output_type": "execute_result"
    }
   ],
   "source": [
    "x = round(98.5)\n",
    "x"
   ]
  },
  {
   "cell_type": "code",
   "execution_count": 7,
   "id": "fa8dedc7-2e89-4ca3-aa60-4c44899565fa",
   "metadata": {},
   "outputs": [
    {
     "name": "stdout",
     "output_type": "stream",
     "text": [
      "123abc\n"
     ]
    }
   ],
   "source": [
    "print(\"123\" + \"abc\")"
   ]
  },
  {
   "cell_type": "code",
   "execution_count": 13,
   "id": "b5c02ab6-bd07-4dc5-bfb5-6366e86072dc",
   "metadata": {},
   "outputs": [
    {
     "name": "stdin",
     "output_type": "stream",
     "text": [
      "please enter total hours you worked 2\n",
      "please enter the rate per hours 32\n"
     ]
    },
    {
     "name": "stdout",
     "output_type": "stream",
     "text": [
      "64\n"
     ]
    }
   ],
   "source": [
    "hours = int(input(\"please enter total hours you worked\"))\n",
    "rate = int(input(\"please enter the rate per hours\"))\n",
    "pay = hours*rate\n",
    "print(pay)"
   ]
  },
  {
   "cell_type": "code",
   "execution_count": 16,
   "id": "747a9d54-6b40-4a07-8790-d65273b20545",
   "metadata": {},
   "outputs": [
    {
     "name": "stdin",
     "output_type": "stream",
     "text": [
      "enter hours 32\n",
      "enter rate 23\n"
     ]
    },
    {
     "data": {
      "text/plain": [
       "736.0"
      ]
     },
     "execution_count": 16,
     "metadata": {},
     "output_type": "execute_result"
    }
   ],
   "source": [
    "h = input(\"enter hours\")\n",
    "r = input(\"enter rate\")\n",
    "p = float(h)*float(r)\n",
    "p"
   ]
  },
  {
   "cell_type": "code",
   "execution_count": 17,
   "id": "f1022e4c-76ac-4500-994a-12d813b1d05e",
   "metadata": {},
   "outputs": [
    {
     "ename": "SyntaxError",
     "evalue": "unterminated string literal (detected at line 1) (4134726358.py, line 1)",
     "output_type": "error",
     "traceback": [
      "\u001b[1;36m  Cell \u001b[1;32mIn[17], line 1\u001b[1;36m\u001b[0m\n\u001b[1;33m    print('helow\u001b[0m\n\u001b[1;37m          ^\u001b[0m\n\u001b[1;31mSyntaxError\u001b[0m\u001b[1;31m:\u001b[0m unterminated string literal (detected at line 1)\n"
     ]
    }
   ],
   "source": [
    "print('helow\n",
    "')"
   ]
  },
  {
   "cell_type": "code",
   "execution_count": 18,
   "id": "86dc4de9-83ac-47cc-8f30-1dd25c975952",
   "metadata": {},
   "outputs": [
    {
     "name": "stdout",
     "output_type": "stream",
     "text": [
      "hel\n"
     ]
    }
   ],
   "source": [
    "print('hel')"
   ]
  },
  {
   "cell_type": "markdown",
   "id": "2f4b9071-9349-489a-9074-e8b717a85e70",
   "metadata": {},
   "source": [
    "##### Chapter Three: Conditional Code"
   ]
  },
  {
   "cell_type": "markdown",
   "id": "72b8a6f9-e21c-40a1-bbc9-8fd94465f816",
   "metadata": {},
   "source": [
    "| Python | Symbols |\n",
    "| ---- | ----- |\n",
    "| < | Less Than |\n",
    "| > | greater than | \n",
    "| <= | Less than or Equal to |\n",
    "| >= | Greater than or Equal to |\n",
    "| == | Equal to ? |\n",
    "| != | Not equal to |"
   ]
  },
  {
   "cell_type": "code",
   "execution_count": 20,
   "id": "14bcc50d-b8d7-456c-9276-d92b1ad5568a",
   "metadata": {},
   "outputs": [
    {
     "data": {
      "text/plain": [
       "True"
      ]
     },
     "execution_count": 20,
     "metadata": {},
     "output_type": "execute_result"
    }
   ],
   "source": [
    " x = 1\n",
    "x == 1"
   ]
  },
  {
   "cell_type": "code",
   "execution_count": 36,
   "id": "e4efc796-9f89-4a4c-8693-2d2e9e19f6d2",
   "metadata": {},
   "outputs": [
    {
     "name": "stdout",
     "output_type": "stream",
     "text": [
      "True\n",
      "True\n",
      "True\n",
      "this is not\n"
     ]
    }
   ],
   "source": [
    "# One way Decisions\n",
    "x = 5\n",
    "if x==5: print(\"True\")\n",
    "if x > 4: print(\"True\")\n",
    "if x < 20: print(\"True\")\n",
    "if x < 4 : print(\"False\")\n",
    "if x < 5 : print(\"False\")\n",
    "else: print(\"this is not\")"
   ]
  },
  {
   "cell_type": "code",
   "execution_count": 28,
   "id": "fd3ba30f-a761-4070-a422-62b205d8a774",
   "metadata": {},
   "outputs": [
    {
     "name": "stdin",
     "output_type": "stream",
     "text": [
      "enter a number 6\n"
     ]
    },
    {
     "name": "stdout",
     "output_type": "stream",
     "text": [
      "Now the code is out\n",
      "Check it again\n",
      "The condition holds\n",
      "The codition still holds\n",
      "Check it is again on hold\n",
      "This is after 6\n",
      "end\n"
     ]
    }
   ],
   "source": [
    "x = int(input(\"enter a number\"))\n",
    "if x == 5:\n",
    "    print(\"x is five\")\n",
    "    print(\"it is true\")\n",
    "    print(\"Obviously\")\n",
    "print(\"Now the code is out\")\n",
    "print(\"Check it again\")\n",
    "if x == 6:\n",
    "    print(\"The condition holds\")\n",
    "    print(\"The codition still holds\")\n",
    "    print(\"Check it is again on hold\")\n",
    "print(\"This is after 6\")\n",
    "print(\"end\")"
   ]
  },
  {
   "cell_type": "code",
   "execution_count": 29,
   "id": "09b80e21-e8aa-42c1-bb0c-628483c3f3e6",
   "metadata": {},
   "outputs": [
    {
     "name": "stdout",
     "output_type": "stream",
     "text": [
      "ture\n"
     ]
    }
   ],
   "source": [
    "# Check using 4 spaces weather indent works or not\n",
    "x = 2\n",
    "if x==2:\n",
    "    print(\"ture\")"
   ]
  },
  {
   "cell_type": "code",
   "execution_count": 34,
   "id": "56755085-3a18-4c9c-a180-a5c4bd972475",
   "metadata": {},
   "outputs": [
    {
     "name": "stdout",
     "output_type": "stream",
     "text": [
      "0\n",
      "done with i 0\n",
      "1\n",
      "done with i 1\n",
      "2\n",
      "done with i 2\n",
      "3\n",
      "Bigger than 2\n",
      "done with i 3\n",
      "4\n",
      "Bigger than 2\n",
      "done with i 4\n",
      "All done\n"
     ]
    }
   ],
   "source": [
    "# trying loops\n",
    "x = 5\n",
    "for i in range(5):\n",
    "    print(i)\n",
    "    if i > 2:\n",
    "        print('Bigger than 2')\n",
    "    print('done with i', i)\n",
    "print('All done')"
   ]
  },
  {
   "cell_type": "code",
   "execution_count": 35,
   "id": "e1ca2dd7-fa7c-46b4-8e1c-af10c274ce61",
   "metadata": {},
   "outputs": [
    {
     "name": "stdout",
     "output_type": "stream",
     "text": [
      "Its greater than two\n",
      "Its less than fifty\n",
      "Okay\n",
      "print okay again\n"
     ]
    }
   ],
   "source": [
    "x = 43\n",
    "if x>2:\n",
    "    print(\"Its greater than two\")\n",
    "    if x<50:\n",
    "        print(\"Its less than fifty\")\n",
    "    print('Okay')\n",
    "print(\"print okay again\")"
   ]
  },
  {
   "cell_type": "code",
   "execution_count": 39,
   "id": "457a74d3-fa17-4f78-8ceb-6cd2c33fdebb",
   "metadata": {},
   "outputs": [
    {
     "name": "stdout",
     "output_type": "stream",
     "text": [
      "false\n"
     ]
    }
   ],
   "source": [
    "# Two way decions\n",
    "x = 4\n",
    "if x<3 :\n",
    "    print(\"true\")\n",
    "else:\n",
    "    print(\"false\")"
   ]
  },
  {
   "cell_type": "code",
   "execution_count": 52,
   "id": "e84229d9-2bb0-42af-abcf-ab1b0f1a5a3e",
   "metadata": {},
   "outputs": [
    {
     "name": "stdin",
     "output_type": "stream",
     "text": [
      "enter a number:  5\n"
     ]
    },
    {
     "name": "stdout",
     "output_type": "stream",
     "text": [
      "It's less than 20\n"
     ]
    }
   ],
   "source": [
    "x = int (input('enter a number: '))\n",
    "if x < 0:\n",
    "    print(\"It's a negitive number\")\n",
    "elif x <= 20:\n",
    "    print(\"It's less than 20\")\n",
    "elif x <= 10:\n",
    "    print(\"It's less than 10\")\n",
    "elif x<0: \n",
    "    print(\"It's a negitive value\")\n",
    "else:\n",
    "    print(\"It's a Large number\")\n",
    "    "
   ]
  },
  {
   "cell_type": "code",
   "execution_count": 56,
   "id": "413ba4f3-97f6-431b-9ae7-7f718a2dbe58",
   "metadata": {},
   "outputs": [
    {
     "name": "stdin",
     "output_type": "stream",
     "text": [
      "enter 32\n"
     ]
    }
   ],
   "source": [
    "# Without else\n",
    "x = int(input('enter'))\n",
    "if x<2:\n",
    "    print(\"it's small\")\n",
    "elif x< 10:\n",
    "    print(\"it's less than 20\")\n",
    "elif x<20: ('its less tahan 20')"
   ]
  },
  {
   "cell_type": "code",
   "execution_count": 59,
   "id": "ce0aa4ec-2aee-4573-9826-c80574b3c731",
   "metadata": {},
   "outputs": [
    {
     "name": "stdin",
     "output_type": "stream",
     "text": [
      "enter a number -21\n"
     ]
    },
    {
     "name": "stdout",
     "output_type": "stream",
     "text": [
      "x is less than two\n"
     ]
    }
   ],
   "source": [
    "# Solving a puzzle\n",
    "# which is gonna never execute\n",
    "x = int (input(\"enter a number\"))\n",
    "if x<2 :\n",
    "    print(\"x is less than two\")\n",
    "elif x>=2:\n",
    "    print (\"x is greater than two\")\n",
    "else: \n",
    "    print(\"none\")\n",
    "\n",
    "# now here in this case we don't need the second elif as we are writting the condions\n",
    "# but writting the else means all for the values"
   ]
  },
  {
   "cell_type": "code",
   "execution_count": 60,
   "id": "0a6a9dc7-06ce-47b2-810d-d45ca8088147",
   "metadata": {},
   "outputs": [
    {
     "name": "stdin",
     "output_type": "stream",
     "text": [
      "enter a number 54\n"
     ]
    },
    {
     "name": "stdout",
     "output_type": "stream",
     "text": [
      "greater than 2\n"
     ]
    }
   ],
   "source": [
    "x = int (input(\"enter a number\"))\n",
    "if x<2 :\n",
    "    print(\"x is less than two\")\n",
    "else: \n",
    "    print(\"greater than 2\")"
   ]
  },
  {
   "cell_type": "code",
   "execution_count": 63,
   "id": "b0383c38-0db8-4e21-868c-5adc8e994557",
   "metadata": {},
   "outputs": [
    {
     "name": "stdout",
     "output_type": "stream",
     "text": [
      "awais -1\n"
     ]
    }
   ],
   "source": [
    "# concept of try and except\n",
    "a = 'awais'\n",
    "try:\n",
    "   sde = 34-3 ==2\n",
    "except:\n",
    "    b = -1\n",
    "print(a,b)"
   ]
  },
  {
   "cell_type": "code",
   "execution_count": 68,
   "id": "4fe7883b-63aa-4ad5-8fcb-7396d1467a01",
   "metadata": {},
   "outputs": [
    {
     "name": "stdin",
     "output_type": "stream",
     "text": [
      "enter a number 23131\n"
     ]
    },
    {
     "name": "stdout",
     "output_type": "stream",
     "text": [
      "nice work\n"
     ]
    }
   ],
   "source": [
    "num = input('enter a number')\n",
    "try:\n",
    "    num1 = int(num)\n",
    "except:\n",
    "    num1 = -1\n",
    "if num1 > 0:\n",
    "    print(\"nice work\")\n",
    "else:\n",
    "    print('not a number')"
   ]
  },
  {
   "cell_type": "markdown",
   "id": "de4ddaa9-ebb9-4fd5-becb-003030589296",
   "metadata": {},
   "source": [
    " **Write a program to prompt the user for hours and rate per hour using input to compute gross pay. Pay the hourly rate for the hours up to 40 and 1.5 times the hourly rate for all hours worked above 40 hours. Use 45 hours and a rate of 10.50 per hour to test the program (the pay should be 498.75). You should use input to read a string and float() to convert the string to a number. Do not worry about error checking the user input - assume the user types numbers properly.**\n",
    "  "
   ]
  },
  {
   "cell_type": "code",
   "execution_count": 109,
   "id": "1567d5a0-1369-4a36-a480-127b334b9ed0",
   "metadata": {},
   "outputs": [
    {
     "name": "stdin",
     "output_type": "stream",
     "text": [
      "enter hours:  fjerf\n"
     ]
    },
    {
     "name": "stdout",
     "output_type": "stream",
     "text": [
      "please enter a numeric value\n",
      "498.75\n"
     ]
    }
   ],
   "source": [
    "try:\n",
    "    hours = int(input('enter hours: '))\n",
    "    rate = float(input('enter rate: '))\n",
    "except: \n",
    "    print('please enter a numeric value')\n",
    "if hours <= 40:\n",
    "    print(hours*rate)\n",
    "else:\n",
    "    pay = 40*rate\n",
    "    overtime = (hours-40) * (1.5*rate)\n",
    "    total_pay = (pay+ overtime)\n",
    "    print(total_pay)"
   ]
  },
  {
   "cell_type": "markdown",
   "id": "a2deb680-2c7e-483b-b6af-e184b17108c8",
   "metadata": {},
   "source": [
    "**3.3 Write a program to prompt for a score between 0.0 and 1.0. If the score is out of range, print an error. If the score is between 0.0 and 1.0, print a grade using the following table:** <br>\n",
    "**Score Grade**<br>\n",
    ">= 0.9 A <br>\n",
    ">= 0.8 B<br>\n",
    ">= 0.7 C<br>\n",
    ">= 0.6 D<br>\n",
    "< 0.6 F<br>\n",
    "If the user enters a value out of range, print a suitable error message and exit. For the test, enter a score of 0.85"
   ]
  },
  {
   "cell_type": "code",
   "execution_count": 117,
   "id": "a135c61f-cbbd-48ae-b13d-5a189554e20c",
   "metadata": {},
   "outputs": [
    {
     "name": "stdin",
     "output_type": "stream",
     "text": [
      "enter the score please 0.85\n"
     ]
    },
    {
     "name": "stdout",
     "output_type": "stream",
     "text": [
      "B\n"
     ]
    }
   ],
   "source": [
    "score = float(input('enter the score please'))\n",
    "\n",
    "if score < 1 and score > 0.9:\n",
    "    print(\"A\")\n",
    "elif score <= 0.8:\n",
    "    print(\"B\")\n",
    "elif score <= 0.7:\n",
    "    print(\"C\")\n",
    "elif score <= 0.6:\n",
    "    print(\"D\")\n",
    "elif score < 0.6:\n",
    "    print(\"F\")\n",
    "else: \n",
    "    print(\"enter a real value\")"
   ]
  },
  {
   "cell_type": "code",
   "execution_count": null,
   "id": "9e3fc940-f05f-414c-9e02-7266a3054565",
   "metadata": {},
   "outputs": [],
   "source": [
    "num = int (input('enter a number'))\n"
   ]
  }
 ],
 "metadata": {
  "kernelspec": {
   "display_name": "Python 3 (ipykernel)",
   "language": "python",
   "name": "python3"
  },
  "language_info": {
   "codemirror_mode": {
    "name": "ipython",
    "version": 3
   },
   "file_extension": ".py",
   "mimetype": "text/x-python",
   "name": "python",
   "nbconvert_exporter": "python",
   "pygments_lexer": "ipython3",
   "version": "3.13.5"
  }
 },
 "nbformat": 4,
 "nbformat_minor": 5
}

{
 "cells": [
  {
   "cell_type": "markdown",
   "id": "05829bac-2177-499e-b25e-60bbe747e0ed",
   "metadata": {},
   "source": [
    "# Python for Everyone\n",
    "##### Course Learnings\n",
    "1. Basics of Computers and its parts\n",
    "2. Python as a Language"
   ]
  },
  {
   "cell_type": "markdown",
   "id": "07efa376-bed1-4332-b8d0-b30906e69970",
   "metadata": {},
   "source": [
    "#### Course 01/06: Getting started with Python"
   ]
  },
  {
   "cell_type": "markdown",
   "id": "873da287-60a2-4042-92a1-6939ecc4f504",
   "metadata": {
    "jp-MarkdownHeadingCollapsed": true
   },
   "source": [
    "##### Assigning Values and Basic Operators"
   ]
  },
  {
   "cell_type": "code",
   "execution_count": 1,
   "id": "20e6a7f9-7745-4a49-8550-623756e9f257",
   "metadata": {},
   "outputs": [
    {
     "data": {
      "text/plain": [
       "16"
      ]
     },
     "execution_count": 1,
     "metadata": {},
     "output_type": "execute_result"
    }
   ],
   "source": [
    "a = 4\n",
    "b = 4\n",
    "a*b"
   ]
  },
  {
   "cell_type": "markdown",
   "id": "5c3609d3-ced9-4856-a2c9-f1b88bdda5a8",
   "metadata": {
    "jp-MarkdownHeadingCollapsed": true
   },
   "source": [
    "##### If and while"
   ]
  },
  {
   "cell_type": "code",
   "execution_count": 2,
   "id": "6959b7a3-ad5f-4da2-8a39-d7817dc7b8fa",
   "metadata": {},
   "outputs": [
    {
     "name": "stdout",
     "output_type": "stream",
     "text": [
      "smaller\n"
     ]
    }
   ],
   "source": [
    "x = 10\n",
    "if x<20:\n",
    "    print('smaller')\n",
    "if x>20:\n",
    "    print('larger')"
   ]
  },
  {
   "cell_type": "code",
   "execution_count": 3,
   "id": "6f3781dd-5193-4b79-a616-46cf8a911033",
   "metadata": {},
   "outputs": [
    {
     "name": "stdout",
     "output_type": "stream",
     "text": [
      "5\n",
      "4\n",
      "3\n",
      "2\n",
      "1\n",
      "blast\n"
     ]
    }
   ],
   "source": [
    "n = 5\n",
    "while n>0:\n",
    "    print(n)\n",
    "    n = n-1\n",
    "print('blast')"
   ]
  },
  {
   "cell_type": "markdown",
   "id": "e1100e6f-f080-4eb5-b69b-cd019a6d59ea",
   "metadata": {
    "jp-MarkdownHeadingCollapsed": true
   },
   "source": [
    "##### Giving varriables Numanic Names\n",
    "Python understan the same like fweffwexr4 = a = hours = rate all are same but you write what humans like\n",
    "<br>"
   ]
  },
  {
   "cell_type": "code",
   "execution_count": 4,
   "id": "048d5a35-2828-4613-af24-ea71c76cfc38",
   "metadata": {},
   "outputs": [
    {
     "data": {
      "text/plain": [
       "640"
      ]
     },
     "execution_count": 4,
     "metadata": {},
     "output_type": "execute_result"
    }
   ],
   "source": [
    "hours = 32\n",
    "rate = 20\n",
    "pay = hours*rate\n",
    "pay"
   ]
  },
  {
   "cell_type": "code",
   "execution_count": 7,
   "id": "22486bbc-4d44-4db8-a382-5a36204ccc6a",
   "metadata": {},
   "outputs": [
    {
     "data": {
      "text/plain": [
       "0.9359999999999999"
      ]
     },
     "execution_count": 7,
     "metadata": {},
     "output_type": "execute_result"
    }
   ],
   "source": [
    "x = 0.6\n",
    "x = 3.9*x*(1-x) #the the right side will be executed first and then it will be added \n",
    "x"
   ]
  },
  {
   "cell_type": "code",
   "execution_count": 8,
   "id": "66318358-98e1-49b7-8f66-0c17ba7167e6",
   "metadata": {},
   "outputs": [
    {
     "name": "stdout",
     "output_type": "stream",
     "text": [
      "3\n"
     ]
    }
   ],
   "source": [
    "# to calculate the remainder\n",
    "xx = 23\n",
    "yy = xx%5\n",
    "print(yy)"
   ]
  },
  {
   "cell_type": "code",
   "execution_count": 13,
   "id": "a775dad4-cedb-4bcc-80c0-e5c18f192306",
   "metadata": {},
   "outputs": [
    {
     "name": "stdout",
     "output_type": "stream",
     "text": [
      "9\n",
      "4\n"
     ]
    }
   ],
   "source": [
    "# to calculate the power\n",
    "x = 3**2\n",
    "print(x)\n",
    "y = 2\n",
    "z = y**2\n",
    "print(z)"
   ]
  },
  {
   "cell_type": "markdown",
   "id": "37c5c573-7550-4de5-84a5-1120e82a574c",
   "metadata": {},
   "source": [
    "##### Numerical Expressions"
   ]
  },
  {
   "cell_type": "markdown",
   "id": "f168afd5-1b98-4c4e-988e-b12b5c1df2b9",
   "metadata": {},
   "source": [
    "**Order of Expressions** <br>\n",
    "Left to Right --->\n",
    "| Name | Symbols |\n",
    "| ---- | ---- |\n",
    "| 1. Parantheses | () |\n",
    "| 2. Power | ** |\n",
    "| 3. Multiplication | * |\n",
    "| 4. Addition | + |\n",
    "| 5. Substration | - |"
   ]
  },
  {
   "cell_type": "code",
   "execution_count": 17,
   "id": "f0297ad0-821c-4a9b-97dc-7b77fe3708df",
   "metadata": {},
   "outputs": [
    {
     "data": {
      "text/plain": [
       "11.0"
      ]
     },
     "execution_count": 17,
     "metadata": {},
     "output_type": "execute_result"
    }
   ],
   "source": [
    "x = 1+2**3/4*5 #PPDMAS \n",
    "x"
   ]
  },
  {
   "cell_type": "code",
   "execution_count": 15,
   "id": "f5f1a1f5-a17b-42a6-94e9-2437fcee7086",
   "metadata": {},
   "outputs": [
    {
     "data": {
      "text/plain": [
       "11.0"
      ]
     },
     "execution_count": 15,
     "metadata": {},
     "output_type": "execute_result"
    }
   ],
   "source": [
    "x = 1 + (((2**3)/4)*5)\n",
    "x"
   ]
  },
  {
   "cell_type": "markdown",
   "id": "c98f79e3-a339-4ef4-b82f-739be866cbcc",
   "metadata": {},
   "source": [
    "##### Variables Types"
   ]
  },
  {
   "cell_type": "code",
   "execution_count": 19,
   "id": "94a11aec-eb57-41b7-b901-2cb3172c7b7f",
   "metadata": {},
   "outputs": [
    {
     "name": "stdout",
     "output_type": "stream",
     "text": [
      "Awais Ali\n"
     ]
    },
    {
     "ename": "TypeError",
     "evalue": "unsupported operand type(s) for -: 'str' and 'str'",
     "output_type": "error",
     "traceback": [
      "\u001b[1;31m---------------------------------------------------------------------------\u001b[0m",
      "\u001b[1;31mTypeError\u001b[0m                                 Traceback (most recent call last)",
      "Cell \u001b[1;32mIn[19], line 3\u001b[0m\n\u001b[0;32m      1\u001b[0m x \u001b[38;5;241m=\u001b[39m \u001b[38;5;124m'\u001b[39m\u001b[38;5;124mAwais \u001b[39m\u001b[38;5;124m'\u001b[39m \u001b[38;5;241m+\u001b[39m \u001b[38;5;124m'\u001b[39m\u001b[38;5;124mAli\u001b[39m\u001b[38;5;124m'\u001b[39m\n\u001b[0;32m      2\u001b[0m \u001b[38;5;28mprint\u001b[39m(x)\n\u001b[1;32m----> 3\u001b[0m y \u001b[38;5;241m=\u001b[39m \u001b[38;5;124m'\u001b[39m\u001b[38;5;124mAwais \u001b[39m\u001b[38;5;124m'\u001b[39m \u001b[38;5;241m-\u001b[39m \u001b[38;5;124m'\u001b[39m\u001b[38;5;124mAli\u001b[39m\u001b[38;5;124m'\u001b[39m\n\u001b[0;32m      4\u001b[0m \u001b[38;5;28mprint\u001b[39m(y)\n",
      "\u001b[1;31mTypeError\u001b[0m: unsupported operand type(s) for -: 'str' and 'str'"
     ]
    }
   ],
   "source": [
    "x = 'Awais ' + 'Ali'\n",
    "print(x)\n",
    "y = 'Awais ' - 'Ali'\n",
    "print(y)"
   ]
  },
  {
   "cell_type": "code",
   "execution_count": 20,
   "id": "ec8042a4-b9b5-42c0-8757-05efeebc21c0",
   "metadata": {},
   "outputs": [
    {
     "ename": "TypeError",
     "evalue": "can only concatenate str (not \"int\") to str",
     "output_type": "error",
     "traceback": [
      "\u001b[1;31m---------------------------------------------------------------------------\u001b[0m",
      "\u001b[1;31mTypeError\u001b[0m                                 Traceback (most recent call last)",
      "Cell \u001b[1;32mIn[20], line 1\u001b[0m\n\u001b[1;32m----> 1\u001b[0m x \u001b[38;5;241m=\u001b[39m \u001b[38;5;124m'\u001b[39m\u001b[38;5;124mAwais\u001b[39m\u001b[38;5;124m'\u001b[39m \u001b[38;5;241m+\u001b[39m \u001b[38;5;241m1\u001b[39m\n\u001b[0;32m      2\u001b[0m \u001b[38;5;28mprint\u001b[39m(x)\n",
      "\u001b[1;31mTypeError\u001b[0m: can only concatenate str (not \"int\") to str"
     ]
    }
   ],
   "source": [
    "x = 'Awais' + 1\n",
    "print(x)"
   ]
  },
  {
   "cell_type": "code",
   "execution_count": 26,
   "id": "e30dcae6-95df-4876-a0d3-a223928a018d",
   "metadata": {},
   "outputs": [
    {
     "name": "stdout",
     "output_type": "stream",
     "text": [
      "<class 'str'>\n",
      "<class 'str'>\n",
      "<class 'int'>\n",
      "<class 'float'>\n"
     ]
    }
   ],
   "source": [
    "print(type(x))\n",
    "print(type('hellow'))\n",
    "print(type(4))\n",
    "print(type(4.2))"
   ]
  },
  {
   "cell_type": "code",
   "execution_count": 28,
   "id": "1de4a524-6013-4c5c-8ce7-fefaf90aa64e",
   "metadata": {},
   "outputs": [
    {
     "name": "stdout",
     "output_type": "stream",
     "text": [
      "100.0\n",
      "100\n"
     ]
    }
   ],
   "source": [
    "print(float(99) + int(1))\n",
    "print(round(float(99) + int(1)))"
   ]
  },
  {
   "cell_type": "code",
   "execution_count": 31,
   "id": "b64d5fb9-f49a-4254-b963-3c6c5494b769",
   "metadata": {},
   "outputs": [
    {
     "name": "stdout",
     "output_type": "stream",
     "text": [
      "125\n"
     ]
    }
   ],
   "source": [
    "# doing typecasting\n",
    "string = '124'\n",
    "integer = int(string)\n",
    "plus = integer+1\n",
    "print(plus)\n"
   ]
  },
  {
   "cell_type": "code",
   "execution_count": 32,
   "id": "9101d4fc-c7ea-4a7f-8d97-9328d0e3b644",
   "metadata": {},
   "outputs": [
    {
     "name": "stdin",
     "output_type": "stream",
     "text": [
      "who are you? : Awais Ali\n"
     ]
    },
    {
     "name": "stdout",
     "output_type": "stream",
     "text": [
      "welcome Awais Ali\n"
     ]
    }
   ],
   "source": [
    "# Taking input and doing it welcome\n",
    "name = input('who are you? :')\n",
    "print('welcome', name)"
   ]
  },
  {
   "cell_type": "code",
   "execution_count": 35,
   "id": "c0ea32ca-2929-46b2-90a4-62db066194d7",
   "metadata": {},
   "outputs": [
    {
     "name": "stdin",
     "output_type": "stream",
     "text": [
      "Enter you name:  Awais ALi\n"
     ]
    },
    {
     "ename": "FileNotFoundError",
     "evalue": "[Errno 2] No such file or directory: 'Awais ALi'",
     "output_type": "error",
     "traceback": [
      "\u001b[1;31m---------------------------------------------------------------------------\u001b[0m",
      "\u001b[1;31mFileNotFoundError\u001b[0m                         Traceback (most recent call last)",
      "Cell \u001b[1;32mIn[35], line 3\u001b[0m\n\u001b[0;32m      1\u001b[0m \u001b[38;5;66;03m# Writing program to count words into a strings \u001b[39;00m\n\u001b[0;32m      2\u001b[0m name \u001b[38;5;241m=\u001b[39m \u001b[38;5;28minput\u001b[39m(\u001b[38;5;124m'\u001b[39m\u001b[38;5;124mEnter you name: \u001b[39m\u001b[38;5;124m'\u001b[39m)\n\u001b[1;32m----> 3\u001b[0m handle \u001b[38;5;241m=\u001b[39m \u001b[38;5;28mopen\u001b[39m(name)\n\u001b[0;32m      4\u001b[0m \u001b[38;5;28mprint\u001b[39m(handle)\n",
      "File \u001b[1;32mE:\\Anaconda Installed\\Lib\\site-packages\\IPython\\core\\interactiveshell.py:324\u001b[0m, in \u001b[0;36m_modified_open\u001b[1;34m(file, *args, **kwargs)\u001b[0m\n\u001b[0;32m    317\u001b[0m \u001b[38;5;28;01mif\u001b[39;00m file \u001b[38;5;129;01min\u001b[39;00m {\u001b[38;5;241m0\u001b[39m, \u001b[38;5;241m1\u001b[39m, \u001b[38;5;241m2\u001b[39m}:\n\u001b[0;32m    318\u001b[0m     \u001b[38;5;28;01mraise\u001b[39;00m \u001b[38;5;167;01mValueError\u001b[39;00m(\n\u001b[0;32m    319\u001b[0m         \u001b[38;5;124mf\u001b[39m\u001b[38;5;124m\"\u001b[39m\u001b[38;5;124mIPython won\u001b[39m\u001b[38;5;124m'\u001b[39m\u001b[38;5;124mt let you open fd=\u001b[39m\u001b[38;5;132;01m{\u001b[39;00mfile\u001b[38;5;132;01m}\u001b[39;00m\u001b[38;5;124m by default \u001b[39m\u001b[38;5;124m\"\u001b[39m\n\u001b[0;32m    320\u001b[0m         \u001b[38;5;124m\"\u001b[39m\u001b[38;5;124mas it is likely to crash IPython. If you know what you are doing, \u001b[39m\u001b[38;5;124m\"\u001b[39m\n\u001b[0;32m    321\u001b[0m         \u001b[38;5;124m\"\u001b[39m\u001b[38;5;124myou can use builtins\u001b[39m\u001b[38;5;124m'\u001b[39m\u001b[38;5;124m open.\u001b[39m\u001b[38;5;124m\"\u001b[39m\n\u001b[0;32m    322\u001b[0m     )\n\u001b[1;32m--> 324\u001b[0m \u001b[38;5;28;01mreturn\u001b[39;00m io_open(file, \u001b[38;5;241m*\u001b[39margs, \u001b[38;5;241m*\u001b[39m\u001b[38;5;241m*\u001b[39mkwargs)\n",
      "\u001b[1;31mFileNotFoundError\u001b[0m: [Errno 2] No such file or directory: 'Awais ALi'"
     ]
    }
   ],
   "source": [
    "# Writing program to count words into a strings \n",
    "name = input('Enter you name: ')\n",
    "handle = open(name)\n",
    "print(handle)"
   ]
  },
  {
   "cell_type": "code",
   "execution_count": 38,
   "id": "6d6d0d7c-fd12-4103-b30b-e97a97ff30bc",
   "metadata": {},
   "outputs": [
    {
     "name": "stdin",
     "output_type": "stream",
     "text": [
      "enter your name:  Awais ALi\n"
     ]
    },
    {
     "ename": "FileNotFoundError",
     "evalue": "[Errno 2] No such file or directory: 'Awais ALi'",
     "output_type": "error",
     "traceback": [
      "\u001b[1;31m---------------------------------------------------------------------------\u001b[0m",
      "\u001b[1;31mFileNotFoundError\u001b[0m                         Traceback (most recent call last)",
      "Cell \u001b[1;32mIn[38], line 2\u001b[0m\n\u001b[0;32m      1\u001b[0m name \u001b[38;5;241m=\u001b[39m \u001b[38;5;28minput\u001b[39m(\u001b[38;5;124m'\u001b[39m\u001b[38;5;124menter your name: \u001b[39m\u001b[38;5;124m'\u001b[39m)\n\u001b[1;32m----> 2\u001b[0m handle \u001b[38;5;241m=\u001b[39m \u001b[38;5;28mopen\u001b[39m(name, \u001b[38;5;124m'\u001b[39m\u001b[38;5;124mr\u001b[39m\u001b[38;5;124m'\u001b[39m)\n\u001b[0;32m      3\u001b[0m counts \u001b[38;5;241m=\u001b[39m \u001b[38;5;28mdict\u001b[39m()\n\u001b[0;32m      4\u001b[0m \u001b[38;5;28;01mfor\u001b[39;00m line \u001b[38;5;129;01min\u001b[39;00m handle:\n",
      "File \u001b[1;32mE:\\Anaconda Installed\\Lib\\site-packages\\IPython\\core\\interactiveshell.py:324\u001b[0m, in \u001b[0;36m_modified_open\u001b[1;34m(file, *args, **kwargs)\u001b[0m\n\u001b[0;32m    317\u001b[0m \u001b[38;5;28;01mif\u001b[39;00m file \u001b[38;5;129;01min\u001b[39;00m {\u001b[38;5;241m0\u001b[39m, \u001b[38;5;241m1\u001b[39m, \u001b[38;5;241m2\u001b[39m}:\n\u001b[0;32m    318\u001b[0m     \u001b[38;5;28;01mraise\u001b[39;00m \u001b[38;5;167;01mValueError\u001b[39;00m(\n\u001b[0;32m    319\u001b[0m         \u001b[38;5;124mf\u001b[39m\u001b[38;5;124m\"\u001b[39m\u001b[38;5;124mIPython won\u001b[39m\u001b[38;5;124m'\u001b[39m\u001b[38;5;124mt let you open fd=\u001b[39m\u001b[38;5;132;01m{\u001b[39;00mfile\u001b[38;5;132;01m}\u001b[39;00m\u001b[38;5;124m by default \u001b[39m\u001b[38;5;124m\"\u001b[39m\n\u001b[0;32m    320\u001b[0m         \u001b[38;5;124m\"\u001b[39m\u001b[38;5;124mas it is likely to crash IPython. If you know what you are doing, \u001b[39m\u001b[38;5;124m\"\u001b[39m\n\u001b[0;32m    321\u001b[0m         \u001b[38;5;124m\"\u001b[39m\u001b[38;5;124myou can use builtins\u001b[39m\u001b[38;5;124m'\u001b[39m\u001b[38;5;124m open.\u001b[39m\u001b[38;5;124m\"\u001b[39m\n\u001b[0;32m    322\u001b[0m     )\n\u001b[1;32m--> 324\u001b[0m \u001b[38;5;28;01mreturn\u001b[39;00m io_open(file, \u001b[38;5;241m*\u001b[39margs, \u001b[38;5;241m*\u001b[39m\u001b[38;5;241m*\u001b[39mkwargs)\n",
      "\u001b[1;31mFileNotFoundError\u001b[0m: [Errno 2] No such file or directory: 'Awais ALi'"
     ]
    }
   ],
   "source": [
    "name = input('enter your name: ')\n",
    "handle = open(name, 'r')\n",
    "counts = dict()\n",
    "for line in handle:\n",
    "    words = line.split()\n",
    "    for word in words:\n",
    "        count[word] = counts.get(word, 0) + 1\n",
    "bigcount = none\n",
    "bigword = none\n",
    "for word, count in counts.item():\n",
    "    if bigcount is none or count>bigcount:\n",
    "        bigword = word\n",
    "        bigcount = count\n",
    "print(bigcount,bigword)"
   ]
  },
  {
   "cell_type": "code",
   "execution_count": 1,
   "id": "19f79181-6a22-4a0a-a320-c573cccc9112",
   "metadata": {},
   "outputs": [
    {
     "name": "stdin",
     "output_type": "stream",
     "text": [
      "Enter the filename:  Awais ali is good man and doing hard work to get there in the place where he wantted to stay\n"
     ]
    },
    {
     "name": "stdout",
     "output_type": "stream",
     "text": [
      "Error: File not found. Please check the filename and try again.\n"
     ]
    },
    {
     "ename": "NameError",
     "evalue": "name 'handle' is not defined",
     "output_type": "error",
     "traceback": [
      "\u001b[1;31m---------------------------------------------------------------------------\u001b[0m",
      "\u001b[1;31mNameError\u001b[0m                                 Traceback (most recent call last)",
      "Cell \u001b[1;32mIn[1], line 12\u001b[0m\n\u001b[0;32m      8\u001b[0m     quit()\n\u001b[0;32m     10\u001b[0m counts \u001b[38;5;241m=\u001b[39m \u001b[38;5;28mdict\u001b[39m()\n\u001b[1;32m---> 12\u001b[0m \u001b[38;5;28;01mfor\u001b[39;00m line \u001b[38;5;129;01min\u001b[39;00m handle:\n\u001b[0;32m     13\u001b[0m     words \u001b[38;5;241m=\u001b[39m line\u001b[38;5;241m.\u001b[39msplit()\n\u001b[0;32m     14\u001b[0m     \u001b[38;5;28;01mfor\u001b[39;00m word \u001b[38;5;129;01min\u001b[39;00m words:\n",
      "\u001b[1;31mNameError\u001b[0m: name 'handle' is not defined"
     ]
    }
   ],
   "source": [
    "# Ask for the filename, not your name\n",
    "filename = input('Enter the filename: ')\n",
    "\n",
    "try:\n",
    "    handle = open(filename, 'r')\n",
    "except FileNotFoundError:\n",
    "    print('Error: File not found. Please check the filename and try again.')\n",
    "    quit()\n",
    "\n",
    "counts = dict()\n",
    "\n",
    "for line in handle:\n",
    "    words = line.split()\n",
    "    for word in words:\n",
    "        counts[word] = counts.get(word, 0) + 1  # fixed: \"count\" -> \"counts\"\n",
    "\n",
    "bigcount = None\n",
    "bigword = None\n",
    "\n",
    "for word, count in counts.items():  # fixed: \"item()\" -> \"items()\"\n",
    "    if bigcount is None or count > bigcount:\n",
    "        bigword = word\n",
    "        bigcount = count\n",
    "\n",
    "print('Most frequent word:', bigword, '=>', bigcount)\n"
   ]
  },
  {
   "cell_type": "code",
   "execution_count": 3,
   "id": "f6fa334b-cce0-4d8d-9e78-eb2e0d73a983",
   "metadata": {},
   "outputs": [
    {
     "name": "stdin",
     "output_type": "stream",
     "text": [
      "enter floor 3\n"
     ]
    },
    {
     "name": "stdout",
     "output_type": "stream",
     "text": [
      "4 usf\n"
     ]
    }
   ],
   "source": [
    "inp = int(input('enter floor'))\n",
    "usf = inp + 1\n",
    "print(usf, 'usf')"
   ]
  },
  {
   "cell_type": "code",
   "execution_count": null,
   "id": "396b2f56-0b22-4e51-96e1-a3a856a72b0c",
   "metadata": {},
   "outputs": [],
   "source": []
  }
 ],
 "metadata": {
  "kernelspec": {
   "display_name": "Python 3 (ipykernel)",
   "language": "python",
   "name": "python3"
  },
  "language_info": {
   "codemirror_mode": {
    "name": "ipython",
    "version": 3
   },
   "file_extension": ".py",
   "mimetype": "text/x-python",
   "name": "python",
   "nbconvert_exporter": "python",
   "pygments_lexer": "ipython3",
   "version": "3.13.5"
  }
 },
 "nbformat": 4,
 "nbformat_minor": 5
}
